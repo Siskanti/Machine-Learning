{
  "cells": [
    {
      "cell_type": "markdown",
      "metadata": {
        "id": "view-in-github",
        "colab_type": "text"
      },
      "source": [
        "<a href=\"https://colab.research.google.com/github/Siskanti/Machine-Learning/blob/main/Praktisi_Clustering.ipynb\" target=\"_parent\"><img src=\"https://colab.research.google.com/assets/colab-badge.svg\" alt=\"Open In Colab\"/></a>"
      ]
    },
    {
      "cell_type": "markdown",
      "source": [
        "*Siskanti*\n",
        "\n",
        "*H071201064*\n",
        "\n",
        "*Sistem Informasi*"
      ],
      "metadata": {
        "id": "vKhnOqZ6EmAO"
      }
    },
    {
      "cell_type": "markdown",
      "source": [
        "# *Clustering*"
      ],
      "metadata": {
        "id": "_MRINSheE4ZE"
      }
    },
    {
      "cell_type": "code",
      "source": [
        "from sklearn import datasets \n",
        "from sklearn.cluster import KMeans\n",
        "from sklearn.preprocessing import StandardScaler\n",
        "from scipy.spatial.distance import cdist\n",
        "import matplotlib.pyplot as plt\n"
      ],
      "metadata": {
        "id": "3c1wepn5w7aO"
      },
      "execution_count": 43,
      "outputs": []
    },
    {
      "cell_type": "code",
      "source": [
        "iris = datasets.load_iris()\n",
        "features = iris.data\n",
        "plt.scatter(features[:,0], features[:,1])\n",
        "plt.show"
      ],
      "metadata": {
        "colab": {
          "base_uri": "https://localhost:8080/",
          "height": 286
        },
        "id": "ynIMoRkYxVXr",
        "outputId": "b55b7bc7-8edc-4e0e-8df3-e546505152d7"
      },
      "execution_count": 18,
      "outputs": [
        {
          "output_type": "execute_result",
          "data": {
            "text/plain": [
              "<function matplotlib.pyplot.show(*args, **kw)>"
            ]
          },
          "metadata": {},
          "execution_count": 18
        },
        {
          "output_type": "display_data",
          "data": {
            "text/plain": [
              "<Figure size 432x288 with 1 Axes>"
            ],
            "image/png": "[encoded data removed]"
          },
          "metadata": {
            "needs_background": "light"
          }
        }
      ]
    },
    {
      "cell_type": "code",
      "source": [
        "scaler = StandardScaler()\n",
        "features_standarized = scaler.fit_transform(features)"
      ],
      "metadata": {
        "id": "-rKbzWe7yXRR"
      },
      "execution_count": 19,
      "outputs": []
    },
    {
      "cell_type": "code",
      "source": [
        "from sklearn.metrics import silhouette_samples, silhouette_score\n",
        "wcss = []\n",
        "for i in range(1, 11):\n",
        "  kmeans = KMeans(n_clusters=i, init='k-means++',\n",
        "  max_iter = 300, n_init=10, random_state=0)\n",
        "  kmeans.fit(features)\n",
        "  wcss.append(kmeans.inertia_)\n",
        "plt.plot(range(1, 11), wcss)\n",
        "plt.title('Elbow Method')\n",
        "plt.xlabel('Number of clusters')\n",
        "plt.ylabel('WCSS')\n",
        "plt.show()\n"
      ],
      "metadata": {
        "colab": {
          "base_uri": "https://localhost:8080/",
          "height": 295
        },
        "id": "BarIuARzy3VV",
        "outputId": "3775a2cc-3ddf-4c61-bfbe-c6bc598f47c3"
      },
      "execution_count": 20,
      "outputs": [
        {
          "output_type": "display_data",
          "data": {
            "text/plain": [
              "<Figure size 432x288 with 1 Axes>"
            ],
            "image/png": "[encoded data removed]"
          },
          "metadata": {
            "needs_background": "light"
          }
        }
      ]
    },
    {
      "cell_type": "code",
      "source": [
        "#Menambahkan 4 titik pusat cluster\n",
        "kmeans = KMeans(n_clusters=4, init='k-means++',\n",
        "    max_iter=300, n_init=10, random_state=0)\n",
        "pred_y = kmeans.fit_predict(features)\n",
        "plt.scatter(features[:,0], features[:,1])\n",
        "plt.scatter(kmeans.cluster_centers_[:,0],\n",
        "    kmeans.cluster_centers_[:,1], s=300, c='red')\n",
        "plt.show()"
      ],
      "metadata": {
        "colab": {
          "base_uri": "https://localhost:8080/",
          "height": 268
        },
        "id": "X2lm06wt006x",
        "outputId": "61c15881-97c0-496d-cab0-d2035d387e3f"
      },
      "execution_count": 21,
      "outputs": [
        {
          "output_type": "display_data",
          "data": {
            "text/plain": [
              "<Figure size 432x288 with 1 Axes>"
            ],
            "image/png": "[encoded data removed]"
          },
          "metadata": {
            "needs_background": "light"
          }
        }
      ]
    },
    {
      "cell_type": "markdown",
      "source": [
        "# Clustering K-Means dengan Dataku.txt"
      ],
      "metadata": {
        "id": "kFdIZA4x2uZG"
      }
    },
    {
      "cell_type": "code",
      "source": [
        "#import library yang akan digunakan\n",
        "import numpy as np\n",
        "from matplotlib import pyplot as plt\n",
        "from matplotlib.pyplot import cm\n",
        "import time\n",
        "import itertools"
      ],
      "metadata": {
        "id": "U1XJsKZF2WK4"
      },
      "execution_count": 31,
      "outputs": []
    },
    {
      "cell_type": "code",
      "source": [
        "#membaca dataset\n",
        "datasetPath = \"drive/MyDrive/Machine Learning/dataku.txt\"\n",
        "dataset = np.loadtxt(datasetPath, delimiter=\" \")"
      ],
      "metadata": {
        "id": "z17CUc2D3PYL"
      },
      "execution_count": 32,
      "outputs": []
    },
    {
      "cell_type": "code",
      "source": [
        "#mendefinisikan parameter k-means clustering\n",
        "k = 2 #jumlah cluster yang diinginkan\n",
        "iterationCounter = 0 #counter untuk melakukan iterasi\n",
        "input = dataset #melakukan input data"
      ],
      "metadata": {
        "id": "rcnRlcGQ3fTT"
      },
      "execution_count": 33,
      "outputs": []
    },
    {
      "cell_type": "code",
      "source": [
        "#fungsi untuk inisialisasi titik pusat cluster(random)\n",
        "def initCentroid(dataIn, k):\n",
        "  result = dataIn[np.random.choice(dataIn.shape[0], k, replace=False)]\n",
        "  return result"
      ],
      "metadata": {
        "id": "mmnTkXmL3yGV"
      },
      "execution_count": 34,
      "outputs": []
    },
    {
      "cell_type": "code",
      "source": [
        "#fungsi untuk plot hasil cluster per iterasi\n",
        "def plotClusterResult(listClusterMembers, centorid, iteration, converged):\n",
        "  n = listClusterMembers.__len__()\n",
        "  color = iter(cm.rainbow(np.linspace(0, 1, n)))\n",
        "  plt.figure(\"result\")\n",
        "  plt.clf()\n",
        "  plt.title(\"iteration-\" + iteration)\n",
        "  marker = itertools.cycle(('-','*','^','x','+'))\n",
        "  for i in range(n):\n",
        "    col = next(color)\n",
        "    memberCluster = np.asmatrix(listClusterMembers[i])\n",
        "    plt.scatter(np.ravel(memberCluster[:, 0]), np.ravel(memberCluster[:, 1]),\n",
        "                marker=marker.__next__(), s=100, c=col, label=\"klaster-\"+str(i+1))\n",
        "  for i in range(n):\n",
        "    plt.scatter((centroid[i, 0]), (centroid[i, 1]), marker=marekr.__next__()\n",
        "    , c=col, label=\"centorid-\"+str(i + 1))\n",
        "  if(converged == 0):\n",
        "    plt.legend()\n",
        "    plt.ion()\n",
        "    plt.show()\n",
        "    plt.pause(0.1)\n",
        "  if (converged == 1):\n",
        "    plt.legend()\n",
        "    plt.show(block=True)"
      ],
      "metadata": {
        "id": "z-nPgq_M650u"
      },
      "execution_count": 35,
      "outputs": []
    },
    {
      "cell_type": "code",
      "source": [
        "#fungsi utama algoritma k-Means\n",
        "def KMeans(data, centroidInt):\n",
        "  nCluster = k #banyaknya cluster\n",
        "  global iterationCounter\n",
        "  centroidInt = np.matrix(centroidInt)\n",
        "  #melakukan looping hingga convergen\n",
        "  while(True):\n",
        "    iterationCounter +=1\n",
        "    euclideanMatrixAllCluster = np.ndarray(shape=(data.shape[0], 0))\n",
        "    #ulangi proses untuk semua cluster\n",
        "    for i in range(0, nCluster):\n",
        "      centroidRepeated = np.repeat(centroidInit[i,:], data.shape[0], axis=0)\n",
        "      deltaMatrix = abs(np.substract(data,centroidRepeated))\n",
        "      #menghitung jarak Euclidean\n",
        "      euclideanMatrx = np.sqrt(np.square(deltaMatrix).sum(axis=1))\n",
        "      euclideanMatrixAllCluster = \\\n",
        "        np.concatenate((euclideanMatrixAllCluster, euclideanMatrixAllCluster), axis=1)\n",
        "      #tempatkan data ke cluster yang jarak euclideannya paling dekat\n",
        "      clusterMatrix = np.ravel(np.argmin(np.matrix(euclideanMatrixAllCluster), axis=1))\n",
        "      listClusterMember = [[] for i in range(k)]\n",
        "      for i in range(0, data.shape[0]):\n",
        "        listClusterMember[np.asscalar(clusterMatrix[i])].append(data[i,:])\n",
        "        #menghitung titik pusat cluster terbaru\n",
        "        newCentroid = np.ndarray(shape=(0, centroidInit.shape[1]))\n",
        "        for i in range(0,nCluster):\n",
        "          memberCluster = np.asmatrix(listClusterMember[i])\n",
        "          centroidCluster = memberCluster.mean(axis=0)\n",
        "          newCentroid = np.concatenate((newCentroid, centroidCluster), axis=0)\n",
        "        print(\"iter: \", iterationCounter)\n",
        "        print(\"centroid: \", newCentroid)\n",
        "        #break dri loop jika sudah convergen\n",
        "        if((centroidInit == newCentroid).all()):\n",
        "          break\n",
        "        #update titik pusat cluster dengan nilai yang baru\n",
        "        centroidInit = newCentroid\n",
        "        #plot hasil cluster per iterasi\n",
        "        plotClusterResult(listClusterMember, centroidInit, str(iterationCounter),0)\n",
        "        time.sleep(1)\n",
        "    return listClusterMember, centroidInit\n"
      ],
      "metadata": {
        "id": "fkrljlW_BkhS"
      },
      "execution_count": 36,
      "outputs": []
    },
    {
      "cell_type": "code",
      "source": [
        "#panggil fungsi inisialisasi cluster\n",
        "centroidInit = initCentroid(input, k)\n",
        "#panggil fungsi k-means\n",
        "clusterResults, centroid = kMeans(input, centroidInit)\n",
        "#plot hasil akhir cluster setelah convergen\n",
        "plotClusterResult(clusterResults, centroid, str(iterationCounter) + \" (converged)\", 1)"
      ],
      "metadata": {
        "id": "wXTlf-rjBLr5"
      },
      "execution_count": null,
      "outputs": []
    },
    {
      "cell_type": "markdown",
      "source": [
        "# Clustering K-Means dengan konsumen.csv"
      ],
      "metadata": {
        "id": "yXtJCZAJA10s"
      }
    },
    {
      "cell_type": "code",
      "source": [
        "import matplotlib.pyplot as plt\n",
        "import numpy as np\n",
        "import pandas as pd\n",
        "from sklearn.cluster import KMeans"
      ],
      "metadata": {
        "id": "Nf8GY26tA8Tn"
      },
      "execution_count": 1,
      "outputs": []
    },
    {
      "cell_type": "code",
      "source": [
        "dataset = pd.read_csv('drive/MyDrive/Machine Learning/konsumen.csv')\n",
        "dataset.keys()"
      ],
      "metadata": {
        "colab": {
          "base_uri": "https://localhost:8080/"
        },
        "id": "LMiKSYhLBevD",
        "outputId": "a1f02a50-8376-4e19-9634-342c1cb6d56e"
      },
      "execution_count": 2,
      "outputs": [
        {
          "output_type": "execute_result",
          "data": {
            "text/plain": [
              "Index(['Gaji', 'Pengeluaran'], dtype='object')"
            ]
          },
          "metadata": {},
          "execution_count": 2
        }
      ]
    },
    {
      "cell_type": "code",
      "source": [
        "dataku = pd.DataFrame(dataset)\n",
        "dataku.head()"
      ],
      "metadata": {
        "colab": {
          "base_uri": "https://localhost:8080/",
          "height": 206
        },
        "id": "GVvREql3B-QF",
        "outputId": "008d4d7a-3c63-4b7c-dbfa-59f2341ea225"
      },
      "execution_count": 3,
      "outputs": [
        {
          "output_type": "execute_result",
          "data": {
            "text/plain": [
              "   Gaji  Pengeluaran\n",
              "0  2500         1750\n",
              "1  3800         4200\n",
              "2  3900         3800\n",
              "3  4350         5500\n",
              "4  4400         3200"
            ],
            "text/html": [
              "\n",
              "  <div id=\"df-63860d48-d94e-42d7-aa5b-6439efd8423f\">\n",
              "    <div class=\"colab-df-container\">\n",
              "      <div>\n",
              "<style scoped>\n",
              "    .dataframe tbody tr th:only-of-type {\n",
              "        vertical-align: middle;\n",
              "    }\n",
              "\n",
              "    .dataframe tbody tr th {\n",
              "        vertical-align: top;\n",
              "    }\n",
              "\n",
              "    .dataframe thead th {\n",
              "        text-align: right;\n",
              "    }\n",
              "</style>\n",
              "<table border=\"1\" class=\"dataframe\">\n",
              "  <thead>\n",
              "    <tr style=\"text-align: right;\">\n",
              "      <th></th>\n",
              "      <th>Gaji</th>\n",
              "      <th>Pengeluaran</th>\n",
              "    </tr>\n",
              "  </thead>\n",
              "  <tbody>\n",
              "    <tr>\n",
              "      <th>0</th>\n",
              "      <td>2500</td>\n",
              "      <td>1750</td>\n",
              "    </tr>\n",
              "    <tr>\n",
              "      <th>1</th>\n",
              "      <td>3800</td>\n",
              "      <td>4200</td>\n",
              "    </tr>\n",
              "    <tr>\n",
              "      <th>2</th>\n",
              "      <td>3900</td>\n",
              "      <td>3800</td>\n",
              "    </tr>\n",
              "    <tr>\n",
              "      <th>3</th>\n",
              "      <td>4350</td>\n",
              "      <td>5500</td>\n",
              "    </tr>\n",
              "    <tr>\n",
              "      <th>4</th>\n",
              "      <td>4400</td>\n",
              "      <td>3200</td>\n",
              "    </tr>\n",
              "  </tbody>\n",
              "</table>\n",
              "</div>\n",
              "      <button class=\"colab-df-convert\" onclick=\"convertToInteractive('df-63860d48-d94e-42d7-aa5b-6439efd8423f')\"\n",
              "              title=\"Convert this dataframe to an interactive table.\"\n",
              "              style=\"display:none;\">\n",
              "        \n",
              "  <svg xmlns=\"http://www.w3.org/2000/svg\" height=\"24px\"viewBox=\"0 0 24 24\"\n",
              "       width=\"24px\">\n",
              "    <path d=\"M0 0h24v24H0V0z\" fill=\"none\"/>\n",
              "    <path d=\"M18.56 5.44l.94 2.06.94-2.06 2.06-.94-2.06-.94-.94-2.06-.94 2.06-2.06.94zm-11 1L8.5 8.5l.94-2.06 2.06-.94-2.06-.94L8.5 2.5l-.94 2.06-2.06.94zm10 10l.94 2.06.94-2.06 2.06-.94-2.06-.94-.94-2.06-.94 2.06-2.06.94z\"/><path d=\"M17.41 7.96l-1.37-1.37c-.4-.4-.92-.59-1.43-.59-.52 0-1.04.2-1.43.59L10.3 9.45l-7.72 7.72c-.78.78-.78 2.05 0 2.83L4 21.41c.39.39.9.59 1.41.59.51 0 1.02-.2 1.41-.59l7.78-7.78 2.81-2.81c.8-.78.8-2.07 0-2.86zM5.41 20L4 18.59l7.72-7.72 1.47 1.35L5.41 20z\"/>\n",
              "  </svg>\n",
              "      </button>\n",
              "      \n",
              "  <style>\n",
              "    .colab-df-container {\n",
              "      display:flex;\n",
              "      flex-wrap:wrap;\n",
              "      gap: 12px;\n",
              "    }\n",
              "\n",
              "    .colab-df-convert {\n",
              "      background-color: #E8F0FE;\n",
              "      border: none;\n",
              "      border-radius: 50%;\n",
              "      cursor: pointer;\n",
              "      display: none;\n",
              "      fill: #1967D2;\n",
              "      height: 32px;\n",
              "      padding: 0 0 0 0;\n",
              "      width: 32px;\n",
              "    }\n",
              "\n",
              "    .colab-df-convert:hover {\n",
              "      background-color: #E2EBFA;\n",
              "      box-shadow: 0px 1px 2px rgba(60, 64, 67, 0.3), 0px 1px 3px 1px rgba(60, 64, 67, 0.15);\n",
              "      fill: #174EA6;\n",
              "    }\n",
              "\n",
              "    [theme=dark] .colab-df-convert {\n",
              "      background-color: #3B4455;\n",
              "      fill: #D2E3FC;\n",
              "    }\n",
              "\n",
              "    [theme=dark] .colab-df-convert:hover {\n",
              "      background-color: #434B5C;\n",
              "      box-shadow: 0px 1px 3px 1px rgba(0, 0, 0, 0.15);\n",
              "      filter: drop-shadow(0px 1px 2px rgba(0, 0, 0, 0.3));\n",
              "      fill: #FFFFFF;\n",
              "    }\n",
              "  </style>\n",
              "\n",
              "      <script>\n",
              "        const buttonEl =\n",
              "          document.querySelector('#df-63860d48-d94e-42d7-aa5b-6439efd8423f button.colab-df-convert');\n",
              "        buttonEl.style.display =\n",
              "          google.colab.kernel.accessAllowed ? 'block' : 'none';\n",
              "\n",
              "        async function convertToInteractive(key) {\n",
              "          const element = document.querySelector('#df-63860d48-d94e-42d7-aa5b-6439efd8423f');\n",
              "          const dataTable =\n",
              "            await google.colab.kernel.invokeFunction('convertToInteractive',\n",
              "                                                     [key], {});\n",
              "          if (!dataTable) return;\n",
              "\n",
              "          const docLinkHtml = 'Like what you see? Visit the ' +\n",
              "            '<a target=\"_blank\" href=https://colab.research.google.com/notebooks/data_table.ipynb>data table notebook</a>'\n",
              "            + ' to learn more about interactive tables.';\n",
              "          element.innerHTML = '';\n",
              "          dataTable['output_type'] = 'display_data';\n",
              "          await google.colab.output.renderOutput(dataTable, element);\n",
              "          const docLink = document.createElement('div');\n",
              "          docLink.innerHTML = docLinkHtml;\n",
              "          element.appendChild(docLink);\n",
              "        }\n",
              "      </script>\n",
              "    </div>\n",
              "  </div>\n",
              "  "
            ]
          },
          "metadata": {},
          "execution_count": 3
        }
      ]
    },
    {
      "cell_type": "code",
      "source": [
        "#konversi ke data array\n",
        "X = np.asarray(dataset)\n",
        "print(X)"
      ],
      "metadata": {
        "colab": {
          "base_uri": "https://localhost:8080/"
        },
        "id": "cgcD28YiCJZM",
        "outputId": "7c2aecb8-94e0-462e-cb0f-5814decf285d"
      },
      "execution_count": 4,
      "outputs": [
        {
          "output_type": "stream",
          "name": "stdout",
          "text": [
            "[[ 2500  1750]\n",
            " [ 3800  4200]\n",
            " [ 3900  3800]\n",
            " [ 4350  5500]\n",
            " [ 4400  3200]\n",
            " [ 5500  5450]\n",
            " [ 5600  5950]\n",
            " [ 5750  4100]\n",
            " [ 6850  6050]\n",
            " [ 6900  8500]\n",
            " [ 7250  9500]\n",
            " [ 7350  6050]\n",
            " [ 7500  8500]\n",
            " [ 7800  9500]\n",
            " [ 8200  8300]\n",
            " [ 8500  6500]\n",
            " [ 8550  8400]\n",
            " [ 8750  6000]\n",
            " [ 9100 10500]\n",
            " [ 9100  8500]]\n"
          ]
        }
      ]
    },
    {
      "cell_type": "code",
      "source": [
        "#menampilkan data dalam bentuk scatter plot\n",
        "plt.scatter(X[:,0], X[:,1], label='True Position')\n",
        "plt.xlabel(\"Gaji\")\n",
        "plt.ylabel(\"Pengeluaran\")\n",
        "plt.title(\"Grafik Penyebaran Data Konsumen\")\n",
        "plt.show()"
      ],
      "metadata": {
        "colab": {
          "base_uri": "https://localhost:8080/",
          "height": 295
        },
        "id": "WsoHTxMsCT4L",
        "outputId": "8fb7e034-659e-4002-8a81-a93ffda1fa33"
      },
      "execution_count": 5,
      "outputs": [
        {
          "output_type": "display_data",
          "data": {
            "text/plain": [
              "<Figure size 432x288 with 1 Axes>"
            ],
            "image/png": "[encoded data removed]"
          },
          "metadata": {
            "needs_background": "light"
          }
        }
      ]
    },
    {
      "cell_type": "code",
      "source": [
        "#mengaktifkan K-Means dengan jumlah K=2\n",
        "kmeans = KMeans(n_clusters=2)\n",
        "kmeans.fit(X)"
      ],
      "metadata": {
        "colab": {
          "base_uri": "https://localhost:8080/"
        },
        "id": "wZbcPUUmCz3Z",
        "outputId": "28fd71aa-0e83-4dcf-9daf-d526812e065f"
      },
      "execution_count": 7,
      "outputs": [
        {
          "output_type": "execute_result",
          "data": {
            "text/plain": [
              "KMeans(n_clusters=2)"
            ]
          },
          "metadata": {},
          "execution_count": 7
        }
      ]
    },
    {
      "cell_type": "code",
      "source": [
        "#menampilkan nilai centroid yang digenerate oleh algoritma\n",
        "print(kmeans.cluster_centers_)"
      ],
      "metadata": {
        "colab": {
          "base_uri": "https://localhost:8080/"
        },
        "id": "kW0n4DHUDATr",
        "outputId": "0f004476-4d4b-4918-b1bf-19fc27da889c"
      },
      "execution_count": 8,
      "outputs": [
        {
          "output_type": "stream",
          "name": "stdout",
          "text": [
            "[[7987.5  8025.  ]\n",
            " [4475.   4243.75]]\n"
          ]
        }
      ]
    },
    {
      "cell_type": "code",
      "source": [
        "#Plot data point\n",
        "#memvisualisasikan hasil clusterisasi data konsumen\n",
        "plt.scatter(X[:,0], X[:,1], c=kmeans.labels_, cmap='rainbow')\n",
        "plt.xlabel(\"Gaji\")\n",
        "plt.ylabel(\"Pengeluaran\")\n",
        "plt.title(\"Grafik Hasil Clusterisasi Data Gaji dan Pengeluaran Konsumen\")\n",
        "plt.show()"
      ],
      "metadata": {
        "colab": {
          "base_uri": "https://localhost:8080/",
          "height": 295
        },
        "id": "IE3ynI6uDOzk",
        "outputId": "3404dfec-e892-4cca-cf84-280a46db6dd3"
      },
      "execution_count": 9,
      "outputs": [
        {
          "output_type": "display_data",
          "data": {
            "text/plain": [
              "<Figure size 432x288 with 1 Axes>"
            ],
            "image/png": "[encoded data removed]"
          },
          "metadata": {
            "needs_background": "light"
          }
        }
      ]
    },
    {
      "cell_type": "code",
      "source": [
        "#plot Data point\n",
        "#membisualisasikan clusterisasi dengan centroid dari masing-masing cluster\n",
        "plt.scatter(X[:,0], X[:,1], c=kmeans.labels_, cmap='rainbow')\n",
        "plt.scatter(kmeans.cluster_centers_[:,0], kmeans.cluster_centers_[:,1], color='black')\n",
        "plt.xlabel(\"Gaji\")\n",
        "plt.ylabel(\"Pengeluaran\")\n",
        "plt.title(\"Grafik Hasil Clusterisasi Data Gaji dan Pengeluaran Konsumen\")\n",
        "plt.show()"
      ],
      "metadata": {
        "colab": {
          "base_uri": "https://localhost:8080/",
          "height": 295
        },
        "id": "K2LDcEoOD-Nr",
        "outputId": "29f7f260-2149-4fc5-b2fd-dc5e8c927a49"
      },
      "execution_count": 10,
      "outputs": [
        {
          "output_type": "display_data",
          "data": {
            "text/plain": [
              "<Figure size 432x288 with 1 Axes>"
            ],
            "image/png": "[encoded data removed]"
          },
          "metadata": {
            "needs_background": "light"
          }
        }
      ]
    }
  ],
  "metadata": {
    "colab": {
      "provenance": [],
      "collapsed_sections": [],
      "mount_file_id": "1pYiEeZX9O1FdfQtN-gtoSYoNswcGYVAH",
      "authorship_tag": "ABX9TyOVP8vmS3FqDaoqcJB5ocYO",
      "include_colab_link": true
    },
    "kernelspec": {
      "display_name": "Python 3",
      "name": "python3"
    },
    "language_info": {
      "name": "python"
    }
  },
  "nbformat": 4,
  "nbformat_minor": 0
}